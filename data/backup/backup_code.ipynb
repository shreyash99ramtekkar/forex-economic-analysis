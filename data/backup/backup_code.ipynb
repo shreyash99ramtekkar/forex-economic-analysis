{
 "cells": [
  {
   "cell_type": "markdown",
   "metadata": {},
   "source": [
    "Since the actual and consensus and previous info is already embedded into deviation we dont need those columns. We will check further about missing values in the deviation column\n",
    "\n",
    "deviation = actual - consensus ( check frame.attrs['features']  for more info)"
   ]
  },
  {
   "cell_type": "code",
   "execution_count": null,
   "metadata": {},
   "outputs": [],
   "source": [
    "frame[frame['deviation'].isnull()]['impact'].value_counts()"
   ]
  },
  {
   "cell_type": "code",
   "execution_count": null,
   "metadata": {},
   "outputs": [],
   "source": []
  },
  {
   "cell_type": "markdown",
   "metadata": {},
   "source": [
    "imputaiton"
   ]
  },
  {
   "cell_type": "code",
   "execution_count": null,
   "metadata": {},
   "outputs": [],
   "source": [
    "frame.loc[frame[PREDICTED_FUTURE_PRICES].isnull().any(axis=1),PREDICTED_FUTURE_PRICES].tail()\n",
    "\n",
    "for price_column in PREDICTED_FUTURE_PRICES:\n",
    "    frame[price_column] = frame[price_column].interpolate(method='linear',axis=0)\n",
    "    frame[price_column].isnull().sum()\n",
    "\n",
    "frame.loc[frame['1h'].isnull(),'result':].tail()"
   ]
  },
  {
   "cell_type": "code",
   "execution_count": null,
   "metadata": {},
   "outputs": [],
   "source": [
    "def extract_description_info(description):\n",
    "    if '(' in description:\n",
    "        return description[description.index('('):].strip()\n",
    "    else:\n",
    "        return ''\n",
    "values = frame.description.apply(extract_description_info).value_counts().to_dict()\n",
    "\n",
    "values"
   ]
  },
  {
   "cell_type": "code",
   "execution_count": null,
   "metadata": {},
   "outputs": [],
   "source": [
    "# # Moving averages\n",
    "# for window in [3, 6, 12]:\n",
    "#     frame[f'moving_average_{window}h_before'] = frame[[f'{i}h' for i in range(-3, 0)]].mean(axis=1).rolling(window=window).mean()\n",
    "#     frame[f'moving_average_{window}h_after'] = frame[[f'{i}h' for i in range(1, 21)]].mean(axis=1).rolling(window=window).mean()\n",
    "\n",
    "# # Volatility (standard deviation)\n",
    "# for window in [3, 6, 12]:\n",
    "#     frame[f'volatility_{window}h_before'] = frame[[f'{i}h' for i in range(-3, 0)]].std(axis=1).rolling(window=window).std()\n",
    "#     frame[f'volatility_{window}h_after'] = frame[[f'{i}h' for i in range(1, 21)]].std(axis=1).rolling(window=window).std()"
   ]
  },
  {
   "cell_type": "code",
   "execution_count": null,
   "metadata": {},
   "outputs": [],
   "source": [
    "for result in frame['result'].unique():\n",
    "    print(result)\n",
    "    fig,ax = plt.subplots(figure=(12,8))\n",
    "    ax.hist((frame[frame['result']==result]['1h']-frame[frame['result']==result]['0h']).std())\n",
    "    plt.show()\n",
    "\n",
    "\n",
    "# frame['diff_1h_0h'] = frame['1h'] - frame['0h']\n",
    "\n",
    "# # Group by 'result' and calculate the mean of the differences\n",
    "# # result_diff_mean = frame.groupby('result')['diff_1h_0h']\n",
    "\n",
    "# # Plotting\n",
    "# fig, ax = plt.subplots(figsize=(12, 8))\n",
    "# ax.bar(result_diff_mean.index, result_diff_mean.values)\n",
    "# ax.set_xlabel('Result')\n",
    "# ax.set_ylabel('Mean Difference (1h - 0h)')\n",
    "# ax.set_title('Mean Difference between 1h and 0h by Result')\n",
    "# plt.show()"
   ]
  },
  {
   "cell_type": "code",
   "execution_count": null,
   "metadata": {},
   "outputs": [],
   "source": [
    "#encoding\n",
    "\n",
    "\n",
    "\n",
    "# # impact\n",
    "# impact_mapping = {'none': 0,'low': 1, 'medium': 2, 'high': 3}\n",
    "# frame['impact'] = frame['impact'].map(impact_mapping)\n",
    "\n",
    "# # result\n",
    "# result_mapping = {'black': 1, 'green': 2, 'red': 3}\n",
    "# frame['result'] = frame['result'].map(result_mapping)\n",
    "\n",
    "# The description is having word like: event name (April) we are removing the april since we already have month column\n",
    "# frame['description'] = frame['description'].apply(process_description)\n",
    "\n",
    "# frame.set_index([frame.index,'currency','description'],inplace=True)\n",
    "# frame.set_index([frame.index,'currency','description'],inplace=True)"
   ]
  },
  {
   "cell_type": "code",
   "execution_count": null,
   "metadata": {},
   "outputs": [],
   "source": [
    "# frame.set_index([frame.index,'currency','description'],inplace=True)\n",
    "frame.set_index(frame.index.get_level_values('time'),inplace=True)\n",
    "frame[frame.duplicated()].shape\n",
    "frame.loc[frame.duplicated(), :].tail(30)"
   ]
  },
  {
   "cell_type": "code",
   "execution_count": null,
   "metadata": {},
   "outputs": [],
   "source": [
    "#### Price Change based features\n",
    "\n",
    "# for price in PREDICTED_FUTURE_PRICES:\n",
    "#     frame['price_change_'+price] = frame[price] - frame['0h']"
   ]
  },
  {
   "cell_type": "code",
   "execution_count": null,
   "metadata": {},
   "outputs": [],
   "source": [
    "# # Visualize the impact of 'impact' on EURUSD prices\n",
    "# frame.columns\n",
    "# for price in PREDICTED_FUTURE_PRICES:\n",
    "#     plt.figure(figsize=(14, 7))\n",
    "#     sns.boxplot(x='result', y='price_change_'+ price , data=frame)\n",
    "#     plt.title('Impact on EURUSD Prices after '+ price +' Hour')\n",
    "#     plt.show()"
   ]
  },
  {
   "cell_type": "code",
   "execution_count": null,
   "metadata": {},
   "outputs": [],
   "source": [
    "# # Impact of Events\n",
    "# for price in PREDICTED_FUTURE_PRICES:\n",
    "#     plt.figure(figsize=(14, 7))\n",
    "#     sns.boxplot(x='impact', y='price_change_'+price, data=frame)\n",
    "#     plt.title('Price Change ' + price + ' Hour After Event by Impact Level')\n",
    "#     plt.xticks(rotation=90)\n",
    "#     plt.show()"
   ]
  },
  {
   "cell_type": "code",
   "execution_count": null,
   "metadata": {},
   "outputs": [],
   "source": [
    "# for price in PREDICTED_FUTURE_PRICES:\n",
    "#     plt.figure(figsize=(12, 8))\n",
    "#     sns.boxplot(x='result', y='price_change_'+ price, hue='impact', data=frame)\n",
    "#     plt.title('Price Change '+ price +' Hour After Event vs. Result of the event')\n",
    "#     plt.show()"
   ]
  },
  {
   "cell_type": "code",
   "execution_count": null,
   "metadata": {},
   "outputs": [],
   "source": [
    "# for price in PREDICTED_FUTURE_PRICES:\n",
    "#     plt.figure(figsize=(12, 8))\n",
    "#     sns.histplot(x='price_change_'+ price, data=frame)\n",
    "#     plt.title('Price Change Distribution : ' + price)\n",
    "#     plt.show()\n",
    "#     # frame['price_change_'+ price].hist(figsize=(12,8))"
   ]
  }
 ],
 "metadata": {
  "language_info": {
   "name": "python"
  }
 },
 "nbformat": 4,
 "nbformat_minor": 2
}
