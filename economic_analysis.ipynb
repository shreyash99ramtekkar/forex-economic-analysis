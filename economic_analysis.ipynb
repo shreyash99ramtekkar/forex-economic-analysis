{
 "cells": [
  {
   "cell_type": "code",
   "execution_count": 2,
   "metadata": {},
   "outputs": [],
   "source": [
    "import pandas as pd\n",
    "import numpy as np\n",
    "import matplotlib.pyplot as plt"
   ]
  },
  {
   "cell_type": "code",
   "execution_count": 14,
   "metadata": {},
   "outputs": [
    {
     "data": {
      "text/plain": [
       "['1h',\n",
       " '2h',\n",
       " '3h',\n",
       " '4h',\n",
       " '5h',\n",
       " '6h',\n",
       " '7h',\n",
       " '8h',\n",
       " '9h',\n",
       " '10h',\n",
       " '11h',\n",
       " '12h',\n",
       " '13h',\n",
       " '14h',\n",
       " '15h',\n",
       " '16h',\n",
       " '17h',\n",
       " '18h',\n",
       " '19h',\n",
       " '20h',\n",
       " '21h',\n",
       " '22h',\n",
       " '23h',\n",
       " '24h']"
      ]
     },
     "execution_count": 14,
     "metadata": {},
     "output_type": "execute_result"
    }
   ],
   "source": [
    "DATA='EURUSD'\n",
    "\n",
    "# extended_columns = [str(num)+'h' for num in np.arange(1,25)]\n",
    "# extended_columns\n",
    "# names=['time','currency','description','impact','actual','deviation','consensus','previous','result'].extend()"
   ]
  },
  {
   "cell_type": "code",
   "execution_count": 15,
   "metadata": {},
   "outputs": [],
   "source": [
    "frame = pd.read_csv('./data/economic_events_'+DATA+'.csv',header=0,parse_dates=['time'],index_col='time',date_format='%y-%m-%d %H:%M:%S%Z')"
   ]
  },
  {
   "cell_type": "code",
   "execution_count": 16,
   "metadata": {},
   "outputs": [
    {
     "data": {
      "text/html": [
       "<div>\n",
       "<style scoped>\n",
       "    .dataframe tbody tr th:only-of-type {\n",
       "        vertical-align: middle;\n",
       "    }\n",
       "\n",
       "    .dataframe tbody tr th {\n",
       "        vertical-align: top;\n",
       "    }\n",
       "\n",
       "    .dataframe thead th {\n",
       "        text-align: right;\n",
       "    }\n",
       "</style>\n",
       "<table border=\"1\" class=\"dataframe\">\n",
       "  <thead>\n",
       "    <tr style=\"text-align: right;\">\n",
       "      <th></th>\n",
       "      <th>currency</th>\n",
       "      <th>description</th>\n",
       "      <th>impact</th>\n",
       "      <th>actual</th>\n",
       "      <th>deviation</th>\n",
       "      <th>consensus</th>\n",
       "      <th>previous</th>\n",
       "      <th>hex_color_actual</th>\n",
       "      <th>1h</th>\n",
       "      <th>2h</th>\n",
       "      <th>...</th>\n",
       "      <th>15h</th>\n",
       "      <th>16h</th>\n",
       "      <th>17h</th>\n",
       "      <th>18h</th>\n",
       "      <th>19h</th>\n",
       "      <th>20h</th>\n",
       "      <th>21h</th>\n",
       "      <th>22h</th>\n",
       "      <th>23h</th>\n",
       "      <th>24h</th>\n",
       "    </tr>\n",
       "    <tr>\n",
       "      <th>time</th>\n",
       "      <th></th>\n",
       "      <th></th>\n",
       "      <th></th>\n",
       "      <th></th>\n",
       "      <th></th>\n",
       "      <th></th>\n",
       "      <th></th>\n",
       "      <th></th>\n",
       "      <th></th>\n",
       "      <th></th>\n",
       "      <th></th>\n",
       "      <th></th>\n",
       "      <th></th>\n",
       "      <th></th>\n",
       "      <th></th>\n",
       "      <th></th>\n",
       "      <th></th>\n",
       "      <th></th>\n",
       "      <th></th>\n",
       "      <th></th>\n",
       "      <th></th>\n",
       "    </tr>\n",
       "  </thead>\n",
       "  <tbody>\n",
       "    <tr>\n",
       "      <th>2013-01-02 09:13:00+00:00</th>\n",
       "      <td>EUR</td>\n",
       "      <td>HCOB Manufacturing PMI(Dec)</td>\n",
       "      <td>low</td>\n",
       "      <td>44.6</td>\n",
       "      <td>-0.48</td>\n",
       "      <td>45.1</td>\n",
       "      <td>45.3</td>\n",
       "      <td>red</td>\n",
       "      <td>1.32448</td>\n",
       "      <td>1.32479</td>\n",
       "      <td>...</td>\n",
       "      <td>1.31821</td>\n",
       "      <td>1.31703</td>\n",
       "      <td>1.31267</td>\n",
       "      <td>1.31387</td>\n",
       "      <td>1.31371</td>\n",
       "      <td>1.31382</td>\n",
       "      <td>1.31452</td>\n",
       "      <td>1.31339</td>\n",
       "      <td>1.31636</td>\n",
       "      <td>1.3147</td>\n",
       "    </tr>\n",
       "    <tr>\n",
       "      <th>2013-01-02 09:43:00+00:00</th>\n",
       "      <td>EUR</td>\n",
       "      <td>HCOB Manufacturing PMI(Dec)</td>\n",
       "      <td>low</td>\n",
       "      <td>46.7</td>\n",
       "      <td>1.20</td>\n",
       "      <td>45.3</td>\n",
       "      <td>45.1</td>\n",
       "      <td>green</td>\n",
       "      <td>1.32448</td>\n",
       "      <td>1.32479</td>\n",
       "      <td>...</td>\n",
       "      <td>1.31821</td>\n",
       "      <td>1.31703</td>\n",
       "      <td>1.31267</td>\n",
       "      <td>1.31387</td>\n",
       "      <td>1.31371</td>\n",
       "      <td>1.31382</td>\n",
       "      <td>1.31452</td>\n",
       "      <td>1.31339</td>\n",
       "      <td>1.31636</td>\n",
       "      <td>1.3147</td>\n",
       "    </tr>\n",
       "    <tr>\n",
       "      <th>2013-01-02 09:48:00+00:00</th>\n",
       "      <td>EUR</td>\n",
       "      <td>HCOB Manufacturing PMI(Dec)</td>\n",
       "      <td>low</td>\n",
       "      <td>44.6</td>\n",
       "      <td>0.00</td>\n",
       "      <td>44.6</td>\n",
       "      <td>44.6</td>\n",
       "      <td>black</td>\n",
       "      <td>1.32448</td>\n",
       "      <td>1.32479</td>\n",
       "      <td>...</td>\n",
       "      <td>1.31821</td>\n",
       "      <td>1.31703</td>\n",
       "      <td>1.31267</td>\n",
       "      <td>1.31387</td>\n",
       "      <td>1.31371</td>\n",
       "      <td>1.31382</td>\n",
       "      <td>1.31452</td>\n",
       "      <td>1.31339</td>\n",
       "      <td>1.31636</td>\n",
       "      <td>1.3147</td>\n",
       "    </tr>\n",
       "    <tr>\n",
       "      <th>2013-01-02 09:53:00+00:00</th>\n",
       "      <td>EUR</td>\n",
       "      <td>HCOB Manufacturing PMI(Dec)</td>\n",
       "      <td>medium</td>\n",
       "      <td>46</td>\n",
       "      <td>-0.28</td>\n",
       "      <td>46.3</td>\n",
       "      <td>46.3</td>\n",
       "      <td>red</td>\n",
       "      <td>1.32448</td>\n",
       "      <td>1.32479</td>\n",
       "      <td>...</td>\n",
       "      <td>1.31821</td>\n",
       "      <td>1.31703</td>\n",
       "      <td>1.31267</td>\n",
       "      <td>1.31387</td>\n",
       "      <td>1.31371</td>\n",
       "      <td>1.31382</td>\n",
       "      <td>1.31452</td>\n",
       "      <td>1.31339</td>\n",
       "      <td>1.31636</td>\n",
       "      <td>1.3147</td>\n",
       "    </tr>\n",
       "    <tr>\n",
       "      <th>2013-01-02 09:58:00+00:00</th>\n",
       "      <td>EUR</td>\n",
       "      <td>HCOB Manufacturing PMI(Dec)</td>\n",
       "      <td>medium</td>\n",
       "      <td>46.1</td>\n",
       "      <td>-0.32</td>\n",
       "      <td>46.3</td>\n",
       "      <td>46.3</td>\n",
       "      <td>red</td>\n",
       "      <td>1.32448</td>\n",
       "      <td>1.32479</td>\n",
       "      <td>...</td>\n",
       "      <td>1.31821</td>\n",
       "      <td>1.31703</td>\n",
       "      <td>1.31267</td>\n",
       "      <td>1.31387</td>\n",
       "      <td>1.31371</td>\n",
       "      <td>1.31382</td>\n",
       "      <td>1.31452</td>\n",
       "      <td>1.31339</td>\n",
       "      <td>1.31636</td>\n",
       "      <td>1.3147</td>\n",
       "    </tr>\n",
       "  </tbody>\n",
       "</table>\n",
       "<p>5 rows × 32 columns</p>\n",
       "</div>"
      ],
      "text/plain": [
       "                          currency                  description  impact  \\\n",
       "time                                                                      \n",
       "2013-01-02 09:13:00+00:00      EUR  HCOB Manufacturing PMI(Dec)     low   \n",
       "2013-01-02 09:43:00+00:00      EUR  HCOB Manufacturing PMI(Dec)     low   \n",
       "2013-01-02 09:48:00+00:00      EUR  HCOB Manufacturing PMI(Dec)     low   \n",
       "2013-01-02 09:53:00+00:00      EUR  HCOB Manufacturing PMI(Dec)  medium   \n",
       "2013-01-02 09:58:00+00:00      EUR  HCOB Manufacturing PMI(Dec)  medium   \n",
       "\n",
       "                          actual deviation consensus previous  \\\n",
       "time                                                            \n",
       "2013-01-02 09:13:00+00:00   44.6     -0.48      45.1     45.3   \n",
       "2013-01-02 09:43:00+00:00   46.7      1.20      45.3     45.1   \n",
       "2013-01-02 09:48:00+00:00   44.6      0.00      44.6     44.6   \n",
       "2013-01-02 09:53:00+00:00     46     -0.28      46.3     46.3   \n",
       "2013-01-02 09:58:00+00:00   46.1     -0.32      46.3     46.3   \n",
       "\n",
       "                          hex_color_actual       1h       2h  ...      15h  \\\n",
       "time                                                          ...            \n",
       "2013-01-02 09:13:00+00:00              red  1.32448  1.32479  ...  1.31821   \n",
       "2013-01-02 09:43:00+00:00            green  1.32448  1.32479  ...  1.31821   \n",
       "2013-01-02 09:48:00+00:00            black  1.32448  1.32479  ...  1.31821   \n",
       "2013-01-02 09:53:00+00:00              red  1.32448  1.32479  ...  1.31821   \n",
       "2013-01-02 09:58:00+00:00              red  1.32448  1.32479  ...  1.31821   \n",
       "\n",
       "                               16h      17h      18h      19h      20h  \\\n",
       "time                                                                     \n",
       "2013-01-02 09:13:00+00:00  1.31703  1.31267  1.31387  1.31371  1.31382   \n",
       "2013-01-02 09:43:00+00:00  1.31703  1.31267  1.31387  1.31371  1.31382   \n",
       "2013-01-02 09:48:00+00:00  1.31703  1.31267  1.31387  1.31371  1.31382   \n",
       "2013-01-02 09:53:00+00:00  1.31703  1.31267  1.31387  1.31371  1.31382   \n",
       "2013-01-02 09:58:00+00:00  1.31703  1.31267  1.31387  1.31371  1.31382   \n",
       "\n",
       "                               21h      22h      23h     24h  \n",
       "time                                                          \n",
       "2013-01-02 09:13:00+00:00  1.31452  1.31339  1.31636  1.3147  \n",
       "2013-01-02 09:43:00+00:00  1.31452  1.31339  1.31636  1.3147  \n",
       "2013-01-02 09:48:00+00:00  1.31452  1.31339  1.31636  1.3147  \n",
       "2013-01-02 09:53:00+00:00  1.31452  1.31339  1.31636  1.3147  \n",
       "2013-01-02 09:58:00+00:00  1.31452  1.31339  1.31636  1.3147  \n",
       "\n",
       "[5 rows x 32 columns]"
      ]
     },
     "execution_count": 16,
     "metadata": {},
     "output_type": "execute_result"
    }
   ],
   "source": [
    "frame.head()"
   ]
  },
  {
   "cell_type": "code",
   "execution_count": 94,
   "metadata": {},
   "outputs": [
    {
     "data": {
      "text/plain": [
       "(372768, 8)"
      ]
     },
     "execution_count": 94,
     "metadata": {},
     "output_type": "execute_result"
    }
   ],
   "source": [
    "frame.shape"
   ]
  },
  {
   "cell_type": "code",
   "execution_count": 95,
   "metadata": {},
   "outputs": [
    {
     "data": {
      "text/html": [
       "<div>\n",
       "<style scoped>\n",
       "    .dataframe tbody tr th:only-of-type {\n",
       "        vertical-align: middle;\n",
       "    }\n",
       "\n",
       "    .dataframe tbody tr th {\n",
       "        vertical-align: top;\n",
       "    }\n",
       "\n",
       "    .dataframe thead th {\n",
       "        text-align: right;\n",
       "    }\n",
       "</style>\n",
       "<table border=\"1\" class=\"dataframe\">\n",
       "  <thead>\n",
       "    <tr style=\"text-align: right;\">\n",
       "      <th></th>\n",
       "      <th>currency</th>\n",
       "      <th>description</th>\n",
       "      <th>impact</th>\n",
       "      <th>actual</th>\n",
       "      <th>deviation</th>\n",
       "      <th>consensus</th>\n",
       "      <th>previous</th>\n",
       "      <th>result</th>\n",
       "    </tr>\n",
       "  </thead>\n",
       "  <tbody>\n",
       "    <tr>\n",
       "      <th>count</th>\n",
       "      <td>372768</td>\n",
       "      <td>372768</td>\n",
       "      <td>372768</td>\n",
       "      <td>372768</td>\n",
       "      <td>372768</td>\n",
       "      <td>372768</td>\n",
       "      <td>372768</td>\n",
       "      <td>372768</td>\n",
       "    </tr>\n",
       "    <tr>\n",
       "      <th>unique</th>\n",
       "      <td>34</td>\n",
       "      <td>7059</td>\n",
       "      <td>4</td>\n",
       "      <td>11095</td>\n",
       "      <td>1815</td>\n",
       "      <td>8980</td>\n",
       "      <td>11080</td>\n",
       "      <td>3</td>\n",
       "    </tr>\n",
       "    <tr>\n",
       "      <th>top</th>\n",
       "      <td>EUR</td>\n",
       "      <td>Consumer Price Index (YoY)(Jan)</td>\n",
       "      <td>low</td>\n",
       "      <td>0.2%</td>\n",
       "      <td>0.00</td>\n",
       "      <td>0.2%</td>\n",
       "      <td>0.2%</td>\n",
       "      <td>green</td>\n",
       "    </tr>\n",
       "    <tr>\n",
       "      <th>freq</th>\n",
       "      <td>102150</td>\n",
       "      <td>1032</td>\n",
       "      <td>209052</td>\n",
       "      <td>9102</td>\n",
       "      <td>64566</td>\n",
       "      <td>12978</td>\n",
       "      <td>9102</td>\n",
       "      <td>157974</td>\n",
       "    </tr>\n",
       "  </tbody>\n",
       "</table>\n",
       "</div>"
      ],
      "text/plain": [
       "       currency                      description  impact  actual deviation  \\\n",
       "count    372768                           372768  372768  372768    372768   \n",
       "unique       34                             7059       4   11095      1815   \n",
       "top         EUR  Consumer Price Index (YoY)(Jan)     low    0.2%      0.00   \n",
       "freq     102150                             1032  209052    9102     64566   \n",
       "\n",
       "       consensus previous  result  \n",
       "count     372768   372768  372768  \n",
       "unique      8980    11080       3  \n",
       "top         0.2%     0.2%   green  \n",
       "freq       12978     9102  157974  "
      ]
     },
     "execution_count": 95,
     "metadata": {},
     "output_type": "execute_result"
    }
   ],
   "source": [
    "frame.describe()"
   ]
  },
  {
   "cell_type": "code",
   "execution_count": 96,
   "metadata": {},
   "outputs": [
    {
     "name": "stdout",
     "output_type": "stream",
     "text": [
      "<class 'pandas.core.frame.DataFrame'>\n",
      "Index: 372768 entries, 2013-01-01 02:00:00 to 2024-05-24 15:00:00\n",
      "Data columns (total 8 columns):\n",
      " #   Column       Non-Null Count   Dtype \n",
      "---  ------       --------------   ----- \n",
      " 0   currency     372768 non-null  object\n",
      " 1   description  372768 non-null  object\n",
      " 2   impact       372768 non-null  object\n",
      " 3   actual       372768 non-null  object\n",
      " 4   deviation    372768 non-null  object\n",
      " 5   consensus    372768 non-null  object\n",
      " 6   previous     372768 non-null  object\n",
      " 7   result       372768 non-null  object\n",
      "dtypes: object(8)\n",
      "memory usage: 25.6+ MB\n"
     ]
    }
   ],
   "source": [
    "frame.info()"
   ]
  },
  {
   "cell_type": "code",
   "execution_count": 97,
   "metadata": {},
   "outputs": [
    {
     "data": {
      "text/plain": [
       "deviation\n",
       "0.00     64566\n",
       "-         5406\n",
       "-2.04     1926\n",
       "-2.50     1848\n",
       "-1.34     1848\n",
       "         ...  \n",
       "4.92         6\n",
       "6.76         6\n",
       "14.25        6\n",
       "10.87        6\n",
       "7.06         6\n",
       "Name: count, Length: 1815, dtype: int64"
      ]
     },
     "execution_count": 97,
     "metadata": {},
     "output_type": "execute_result"
    }
   ],
   "source": [
    "frame.deviation.value_counts()"
   ]
  },
  {
   "cell_type": "code",
   "execution_count": 98,
   "metadata": {},
   "outputs": [],
   "source": [
    "frame['deviation'] = frame.deviation.replace('-',None).astype(np.float64)"
   ]
  },
  {
   "cell_type": "code",
   "execution_count": 99,
   "metadata": {},
   "outputs": [
    {
     "data": {
      "text/plain": [
       "deviation\n",
       " 16.64    6\n",
       "-23.19    6\n",
       " 8.20     6\n",
       " 92.42    6\n",
       " 7.06     6\n",
       "Name: count, dtype: int64"
      ]
     },
     "execution_count": 99,
     "metadata": {},
     "output_type": "execute_result"
    }
   ],
   "source": [
    "frame.deviation.value_counts().tail()"
   ]
  },
  {
   "cell_type": "code",
   "execution_count": 103,
   "metadata": {},
   "outputs": [
    {
     "data": {
      "text/plain": [
       "result\n",
       "green    157974\n",
       "red      152778\n",
       "black     62016\n",
       "Name: count, dtype: int64"
      ]
     },
     "execution_count": 103,
     "metadata": {},
     "output_type": "execute_result"
    }
   ],
   "source": [
    "frame.result.value_counts()"
   ]
  },
  {
   "cell_type": "code",
   "execution_count": null,
   "metadata": {},
   "outputs": [],
   "source": []
  }
 ],
 "metadata": {
  "kernelspec": {
   "display_name": "Python 3",
   "language": "python",
   "name": "python3"
  },
  "language_info": {
   "codemirror_mode": {
    "name": "ipython",
    "version": 3
   },
   "file_extension": ".py",
   "mimetype": "text/x-python",
   "name": "python",
   "nbconvert_exporter": "python",
   "pygments_lexer": "ipython3",
   "version": "3.12.2"
  }
 },
 "nbformat": 4,
 "nbformat_minor": 2
}
