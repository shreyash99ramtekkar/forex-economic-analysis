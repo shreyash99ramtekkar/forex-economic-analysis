{
 "cells": [
  {
   "cell_type": "code",
   "execution_count": 90,
   "metadata": {},
   "outputs": [],
   "source": [
    "import pandas as pd\n",
    "import numpy as np\n",
    "import matplotlib.pyplot as plt"
   ]
  },
  {
   "cell_type": "code",
   "execution_count": 91,
   "metadata": {},
   "outputs": [
    {
     "name": "stdout",
     "output_type": "stream",
     "text": [
      "text\n"
     ]
    }
   ],
   "source": [
    "print('text')"
   ]
  },
  {
   "cell_type": "code",
   "execution_count": 92,
   "metadata": {},
   "outputs": [],
   "source": [
    "frame = pd.read_csv('./data/economic_events.csv',names=['time','currency','description','impact','actual','deviation','consensus','previous','result'],parse_dates=['time'],index_col='time',date_format='%y-%m-%d %H:%M:%S')"
   ]
  },
  {
   "cell_type": "code",
   "execution_count": 93,
   "metadata": {},
   "outputs": [
    {
     "data": {
      "text/html": [
       "<div>\n",
       "<style scoped>\n",
       "    .dataframe tbody tr th:only-of-type {\n",
       "        vertical-align: middle;\n",
       "    }\n",
       "\n",
       "    .dataframe tbody tr th {\n",
       "        vertical-align: top;\n",
       "    }\n",
       "\n",
       "    .dataframe thead th {\n",
       "        text-align: right;\n",
       "    }\n",
       "</style>\n",
       "<table border=\"1\" class=\"dataframe\">\n",
       "  <thead>\n",
       "    <tr style=\"text-align: right;\">\n",
       "      <th></th>\n",
       "      <th>currency</th>\n",
       "      <th>description</th>\n",
       "      <th>impact</th>\n",
       "      <th>actual</th>\n",
       "      <th>deviation</th>\n",
       "      <th>consensus</th>\n",
       "      <th>previous</th>\n",
       "      <th>result</th>\n",
       "    </tr>\n",
       "    <tr>\n",
       "      <th>time</th>\n",
       "      <th></th>\n",
       "      <th></th>\n",
       "      <th></th>\n",
       "      <th></th>\n",
       "      <th></th>\n",
       "      <th></th>\n",
       "      <th></th>\n",
       "      <th></th>\n",
       "    </tr>\n",
       "  </thead>\n",
       "  <tbody>\n",
       "    <tr>\n",
       "      <th>2013-01-01 02:00:00</th>\n",
       "      <td>CNY</td>\n",
       "      <td>NBS Manufacturing PMI(Dec)</td>\n",
       "      <td>high</td>\n",
       "      <td>50.6</td>\n",
       "      <td>-1.80</td>\n",
       "      <td>51</td>\n",
       "      <td>50.6</td>\n",
       "      <td>red</td>\n",
       "    </tr>\n",
       "    <tr>\n",
       "      <th>2013-01-02 09:13:00</th>\n",
       "      <td>EUR</td>\n",
       "      <td>HCOB Manufacturing PMI(Dec)</td>\n",
       "      <td>low</td>\n",
       "      <td>44.6</td>\n",
       "      <td>-0.48</td>\n",
       "      <td>45.1</td>\n",
       "      <td>45.3</td>\n",
       "      <td>red</td>\n",
       "    </tr>\n",
       "    <tr>\n",
       "      <th>2013-01-02 09:43:00</th>\n",
       "      <td>EUR</td>\n",
       "      <td>HCOB Manufacturing PMI(Dec)</td>\n",
       "      <td>low</td>\n",
       "      <td>46.7</td>\n",
       "      <td>1.20</td>\n",
       "      <td>45.3</td>\n",
       "      <td>45.1</td>\n",
       "      <td>green</td>\n",
       "    </tr>\n",
       "    <tr>\n",
       "      <th>2013-01-02 09:48:00</th>\n",
       "      <td>EUR</td>\n",
       "      <td>HCOB Manufacturing PMI(Dec)</td>\n",
       "      <td>low</td>\n",
       "      <td>44.6</td>\n",
       "      <td>0.00</td>\n",
       "      <td>44.6</td>\n",
       "      <td>44.6</td>\n",
       "      <td>black</td>\n",
       "    </tr>\n",
       "    <tr>\n",
       "      <th>2013-01-02 09:53:00</th>\n",
       "      <td>EUR</td>\n",
       "      <td>HCOB Manufacturing PMI(Dec)</td>\n",
       "      <td>medium</td>\n",
       "      <td>46</td>\n",
       "      <td>-0.28</td>\n",
       "      <td>46.3</td>\n",
       "      <td>46.3</td>\n",
       "      <td>red</td>\n",
       "    </tr>\n",
       "  </tbody>\n",
       "</table>\n",
       "</div>"
      ],
      "text/plain": [
       "                    currency                  description  impact actual  \\\n",
       "time                                                                       \n",
       "2013-01-01 02:00:00      CNY   NBS Manufacturing PMI(Dec)    high   50.6   \n",
       "2013-01-02 09:13:00      EUR  HCOB Manufacturing PMI(Dec)     low   44.6   \n",
       "2013-01-02 09:43:00      EUR  HCOB Manufacturing PMI(Dec)     low   46.7   \n",
       "2013-01-02 09:48:00      EUR  HCOB Manufacturing PMI(Dec)     low   44.6   \n",
       "2013-01-02 09:53:00      EUR  HCOB Manufacturing PMI(Dec)  medium     46   \n",
       "\n",
       "                    deviation consensus previous result  \n",
       "time                                                     \n",
       "2013-01-01 02:00:00     -1.80        51     50.6    red  \n",
       "2013-01-02 09:13:00     -0.48      45.1     45.3    red  \n",
       "2013-01-02 09:43:00      1.20      45.3     45.1  green  \n",
       "2013-01-02 09:48:00      0.00      44.6     44.6  black  \n",
       "2013-01-02 09:53:00     -0.28      46.3     46.3    red  "
      ]
     },
     "execution_count": 93,
     "metadata": {},
     "output_type": "execute_result"
    }
   ],
   "source": [
    "frame.head()"
   ]
  },
  {
   "cell_type": "code",
   "execution_count": 94,
   "metadata": {},
   "outputs": [
    {
     "data": {
      "text/plain": [
       "(372768, 8)"
      ]
     },
     "execution_count": 94,
     "metadata": {},
     "output_type": "execute_result"
    }
   ],
   "source": [
    "frame.shape"
   ]
  },
  {
   "cell_type": "code",
   "execution_count": 95,
   "metadata": {},
   "outputs": [
    {
     "data": {
      "text/html": [
       "<div>\n",
       "<style scoped>\n",
       "    .dataframe tbody tr th:only-of-type {\n",
       "        vertical-align: middle;\n",
       "    }\n",
       "\n",
       "    .dataframe tbody tr th {\n",
       "        vertical-align: top;\n",
       "    }\n",
       "\n",
       "    .dataframe thead th {\n",
       "        text-align: right;\n",
       "    }\n",
       "</style>\n",
       "<table border=\"1\" class=\"dataframe\">\n",
       "  <thead>\n",
       "    <tr style=\"text-align: right;\">\n",
       "      <th></th>\n",
       "      <th>currency</th>\n",
       "      <th>description</th>\n",
       "      <th>impact</th>\n",
       "      <th>actual</th>\n",
       "      <th>deviation</th>\n",
       "      <th>consensus</th>\n",
       "      <th>previous</th>\n",
       "      <th>result</th>\n",
       "    </tr>\n",
       "  </thead>\n",
       "  <tbody>\n",
       "    <tr>\n",
       "      <th>count</th>\n",
       "      <td>372768</td>\n",
       "      <td>372768</td>\n",
       "      <td>372768</td>\n",
       "      <td>372768</td>\n",
       "      <td>372768</td>\n",
       "      <td>372768</td>\n",
       "      <td>372768</td>\n",
       "      <td>372768</td>\n",
       "    </tr>\n",
       "    <tr>\n",
       "      <th>unique</th>\n",
       "      <td>34</td>\n",
       "      <td>7059</td>\n",
       "      <td>4</td>\n",
       "      <td>11095</td>\n",
       "      <td>1815</td>\n",
       "      <td>8980</td>\n",
       "      <td>11080</td>\n",
       "      <td>3</td>\n",
       "    </tr>\n",
       "    <tr>\n",
       "      <th>top</th>\n",
       "      <td>EUR</td>\n",
       "      <td>Consumer Price Index (YoY)(Jan)</td>\n",
       "      <td>low</td>\n",
       "      <td>0.2%</td>\n",
       "      <td>0.00</td>\n",
       "      <td>0.2%</td>\n",
       "      <td>0.2%</td>\n",
       "      <td>green</td>\n",
       "    </tr>\n",
       "    <tr>\n",
       "      <th>freq</th>\n",
       "      <td>102150</td>\n",
       "      <td>1032</td>\n",
       "      <td>209052</td>\n",
       "      <td>9102</td>\n",
       "      <td>64566</td>\n",
       "      <td>12978</td>\n",
       "      <td>9102</td>\n",
       "      <td>157974</td>\n",
       "    </tr>\n",
       "  </tbody>\n",
       "</table>\n",
       "</div>"
      ],
      "text/plain": [
       "       currency                      description  impact  actual deviation  \\\n",
       "count    372768                           372768  372768  372768    372768   \n",
       "unique       34                             7059       4   11095      1815   \n",
       "top         EUR  Consumer Price Index (YoY)(Jan)     low    0.2%      0.00   \n",
       "freq     102150                             1032  209052    9102     64566   \n",
       "\n",
       "       consensus previous  result  \n",
       "count     372768   372768  372768  \n",
       "unique      8980    11080       3  \n",
       "top         0.2%     0.2%   green  \n",
       "freq       12978     9102  157974  "
      ]
     },
     "execution_count": 95,
     "metadata": {},
     "output_type": "execute_result"
    }
   ],
   "source": [
    "frame.describe()"
   ]
  },
  {
   "cell_type": "code",
   "execution_count": 96,
   "metadata": {},
   "outputs": [
    {
     "name": "stdout",
     "output_type": "stream",
     "text": [
      "<class 'pandas.core.frame.DataFrame'>\n",
      "Index: 372768 entries, 2013-01-01 02:00:00 to 2024-05-24 15:00:00\n",
      "Data columns (total 8 columns):\n",
      " #   Column       Non-Null Count   Dtype \n",
      "---  ------       --------------   ----- \n",
      " 0   currency     372768 non-null  object\n",
      " 1   description  372768 non-null  object\n",
      " 2   impact       372768 non-null  object\n",
      " 3   actual       372768 non-null  object\n",
      " 4   deviation    372768 non-null  object\n",
      " 5   consensus    372768 non-null  object\n",
      " 6   previous     372768 non-null  object\n",
      " 7   result       372768 non-null  object\n",
      "dtypes: object(8)\n",
      "memory usage: 25.6+ MB\n"
     ]
    }
   ],
   "source": [
    "frame.info()"
   ]
  },
  {
   "cell_type": "code",
   "execution_count": 97,
   "metadata": {},
   "outputs": [
    {
     "data": {
      "text/plain": [
       "deviation\n",
       "0.00     64566\n",
       "-         5406\n",
       "-2.04     1926\n",
       "-2.50     1848\n",
       "-1.34     1848\n",
       "         ...  \n",
       "4.92         6\n",
       "6.76         6\n",
       "14.25        6\n",
       "10.87        6\n",
       "7.06         6\n",
       "Name: count, Length: 1815, dtype: int64"
      ]
     },
     "execution_count": 97,
     "metadata": {},
     "output_type": "execute_result"
    }
   ],
   "source": [
    "frame.deviation.value_counts()"
   ]
  },
  {
   "cell_type": "code",
   "execution_count": 98,
   "metadata": {},
   "outputs": [],
   "source": [
    "frame['deviation'] = frame.deviation.replace('-',None).astype(np.float64)"
   ]
  },
  {
   "cell_type": "code",
   "execution_count": 99,
   "metadata": {},
   "outputs": [
    {
     "data": {
      "text/plain": [
       "deviation\n",
       " 16.64    6\n",
       "-23.19    6\n",
       " 8.20     6\n",
       " 92.42    6\n",
       " 7.06     6\n",
       "Name: count, dtype: int64"
      ]
     },
     "execution_count": 99,
     "metadata": {},
     "output_type": "execute_result"
    }
   ],
   "source": [
    "frame.deviation.value_counts().tail()"
   ]
  },
  {
   "cell_type": "code",
   "execution_count": 103,
   "metadata": {},
   "outputs": [
    {
     "data": {
      "text/plain": [
       "result\n",
       "green    157974\n",
       "red      152778\n",
       "black     62016\n",
       "Name: count, dtype: int64"
      ]
     },
     "execution_count": 103,
     "metadata": {},
     "output_type": "execute_result"
    }
   ],
   "source": [
    "frame.result.value_counts()"
   ]
  },
  {
   "cell_type": "code",
   "execution_count": null,
   "metadata": {},
   "outputs": [],
   "source": []
  }
 ],
 "metadata": {
  "kernelspec": {
   "display_name": "Python 3",
   "language": "python",
   "name": "python3"
  },
  "language_info": {
   "codemirror_mode": {
    "name": "ipython",
    "version": 3
   },
   "file_extension": ".py",
   "mimetype": "text/x-python",
   "name": "python",
   "nbconvert_exporter": "python",
   "pygments_lexer": "ipython3",
   "version": "3.11.9"
  }
 },
 "nbformat": 4,
 "nbformat_minor": 2
}
